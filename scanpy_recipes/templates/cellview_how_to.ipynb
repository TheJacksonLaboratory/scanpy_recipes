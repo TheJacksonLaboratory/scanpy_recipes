{
 "cells": [
  {
   "cell_type": "markdown",
   "metadata": {},
   "source": [
    "Visualize gene expression per cluster\n",
    "=====================================\n",
    "You can visualize the gene expression in a chosen cluster for one or multiple genes, under the \"Explore\" tab.\n",
    "There are 2 sections under the Explore tab:\n",
    "\n",
    "Expression (1 gene, 1 cluster)\n",
    "-------------------------------\n",
    "Use Expession to visualize the expression of one gene in one cluster at a time.\n",
    "- Enter a gene of interest and select a cluster from the drop-down list. click \"Run\" to display a 3 panel visual output.\n",
    "    * Panel 1 has a 3D plot of the gene’s expression across all cells in the cluster of interest.\n",
    "    * Panel 2 has a 2D plot of the same gene’s expression across all cells\n",
    "#in that cluster. Within Panel 2, you can also download a .csv file of the\n",
    "#gene-cell expression matrix by clicking and dragging over a group of cells.\n",
    "#click \"Download Expression\" at the top of panel 2 to start the download.\n",
    "    * Panel 3 has violin plots of the gene’s cluster-specific expression and includes a total cell count for each cluster (bottom of violin plots) as well as the count of cells expressing the gene in that cluster (top of violin plots).\n",
    "\n",
    "Panel Plot (multiple genes |  1 cluster)\n",
    "----------------------------------------\n",
    "Use Panel Plot to visualize the expression of multiple genes of interest in one cluster at a time.\n",
    "- After selecting a cluster from the drop-down list, paste a coma separated list of gene names, click \"Run\".\n"
   ]
  },
  {
   "cell_type": "code",
   "execution_count": null,
   "metadata": {},
   "outputs": [],
   "source": []
  }
 ],
 "metadata": {
  "kernelspec": {
   "display_name": "Python [conda env:scc]",
   "language": "python",
   "name": "conda-env-scc-py"
  },
  "language_info": {
   "codemirror_mode": {
    "name": "ipython",
    "version": 3
   },
   "file_extension": ".py",
   "mimetype": "text/x-python",
   "name": "python",
   "nbconvert_exporter": "python",
   "pygments_lexer": "ipython3",
   "version": "3.6.4"
  }
 },
 "nbformat": 4,
 "nbformat_minor": 2
}
