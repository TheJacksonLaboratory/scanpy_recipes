{
 "cells": [
  {
   "cell_type": "markdown",
   "metadata": {},
   "source": [
    "# Example analysis notebook\n",
    "### Author: Bill Flynn (bill.flynn@jax.org)\n",
    "\n",
    "Updates:\n",
    "- 2018-09-28: creation"
   ]
  },
  {
   "cell_type": "markdown",
   "metadata": {},
   "source": [
    "This notebook is a template for analysis notebooks using the [`scanpy`](https://github.com/theislab/scanpy) package and an extension to their API I've written tentatively called [`scanpy_recipes`](https://https://github.com/TheJacksonLaboratory/scanpy_recipes).\n",
    "\n",
    "The aim of the additional functions added to the `scanpy` API by `scanpy_recipes` are intended to simplify scRNA-seq analysis.  Additionally, it's meant to integrate seamlessly with the normal `scanpy` API and as such it only extends functionality.\n",
    "\n",
    "This package is meant to be used with Jupyter notebooks, and in particular with the use of cell tags (`View -> Cell Toolbar... -> Tags`) in order to hide certain cells when generating a final analysis report."
   ]
  },
  {
   "cell_type": "code",
   "execution_count": 1,
   "metadata": {},
   "outputs": [
    {
     "name": "stderr",
     "output_type": "stream",
     "text": [
      "/projects/flynnb/software/anaconda/envs/scc/lib/python3.6/site-packages/h5py/__init__.py:36: FutureWarning: Conversion of the second argument of issubdtype from `float` to `np.floating` is deprecated. In future, it will be treated as `np.float64 == np.dtype(float).type`.\n",
      "  from ._conv import register_converters as _register_converters\n"
     ]
    }
   ],
   "source": [
    "from scanpy_recipes.api import sc"
   ]
  },
  {
   "cell_type": "markdown",
   "metadata": {},
   "source": [
    "The first major change to the analysis pipeline is to specify data upfront about the samples you will analyze.  To standardize this process, I've written a little parse and template.  \n",
    "\n",
    "Below, we initialize the parser and print the template.  We then copy the template into a new cell, fill it in, then read it back into the parser which returns a `config` object.  This object is essentially just a dict of dicts which holds the template information.  We can then pass this `config` object to other functions and they will query it when needed for information.  Ultimately, most of this information gets passed onto and stored inside the `AnnData` objects which we will use to store the scRNA-seq data.\n",
    "\n",
    "Eventually, much of this metadata will be generated automatically through our pipelines but while that is still coming up to speed, we will define it here below."
   ]
  },
  {
   "cell_type": "code",
   "execution_count": 2,
   "metadata": {
    "tags": [
     "hide_cell"
    ]
   },
   "outputs": [
    {
     "name": "stdout",
     "output_type": "stream",
     "text": [
      "config_string = \"\"\"\n",
      "[names]\n",
      "customer_name = EXAMPLE_TEXT\n",
      "analyst_name = EXAMPLE_TEXT\n",
      "analysis_name = EXAMPLE_TEXT\n",
      "\n",
      "[sample_names]\n",
      "EXAMPLE_SAMPLE1 =\n",
      "EXAMPLE_SAMPLE2 =\n",
      "EXAMPLE_SAMPLE3 =\n",
      "\n",
      "[genomes]\n",
      "EXAMPLE_SAMPLE1 = EXAMPLE_GENOME1\n",
      "EXAMPLE_SAMPLE2 = EXAMPLE_GENOME2\n",
      "EXAMPLE_SAMPLE3 = EXAMPLE_GENOME3\n",
      "\n",
      "[species]\n",
      "hg19 = hsapiens\n",
      "GRCh38 = hsapiens\n",
      "mm10 = mmusculus\n",
      "\n",
      "[input_dirs]\n",
      "EXAMPLE_SAMPLE1 = EXAMPLE_DIR1\n",
      "EXAMPLE_SAMPLE2 = EXAMPLE_DIR2\n",
      "EXAMPLE_SAMPLE3 = EXAMPLE_DIR3\n",
      "\n",
      "[output_dirs]\n",
      "EXAMPLE_SAMPLE1 = EXAMPLE_DIR1\n",
      "EXAMPLE_SAMPLE2 = EXAMPLE_DIR2\n",
      "EXAMPLE_SAMPLE3 = EXAMPLE_DIR3\n",
      "\n",
      "\"\"\"\n",
      "The following sections are required:\n",
      "['names', 'sample_names', 'genomes', 'species', 'input_dirs', 'output_dirs']\n"
     ]
    }
   ],
   "source": [
    "ac = sc.AnalysisConfig()\n",
    "ac.print_template()"
   ]
  },
  {
   "cell_type": "code",
   "execution_count": 3,
   "metadata": {
    "tags": [
     "hide_cell"
    ]
   },
   "outputs": [],
   "source": [
    "config_string = \"\"\"\n",
    "[names]\n",
    "customer_name = Anonymous person\n",
    "analyst_name = Bill Flynn\n",
    "analysis_name = Test-analysis\n",
    "\n",
    "[sample_names]\n",
    "PR18016 =\n",
    "DM18007 =\n",
    "DM18008 =\n",
    "\n",
    "[genomes]\n",
    "PR18016 = GRCh38\n",
    "DM18007 = mm10\n",
    "DM18008 = mm10\n",
    "\n",
    "[species]\n",
    "hg19 = hsapiens\n",
    "GRCh38 = hsapiens\n",
    "mm10 = mmusculus\n",
    "\n",
    "[input_dirs]\n",
    "PR18016 = /projects/flynnb/singlecell/IBC/PR18016/\n",
    "DM18007 = DM18007/\n",
    "DM18008 = DM18008/\n",
    "\n",
    "[output_dirs]\n",
    "PR18016 = /projects/flynnb/singlecell/IBC/PR18016_outputs2/\n",
    "DM18007 = DM18007_outputs/\n",
    "DM18008 = DM18008_outputs/\n",
    "\"\"\"\n",
    "config = ac.read(config_string)"
   ]
  },
  {
   "cell_type": "code",
   "execution_count": 4,
   "metadata": {},
   "outputs": [
    {
     "name": "stdout",
     "output_type": "stream",
     "text": [
      "Variable names are not unique. To make them unique, call `.var_names_make_unique`.\n"
     ]
    }
   ],
   "source": [
    "test = sc.load_10x_data(\"PR18016\", config)"
   ]
  },
  {
   "cell_type": "code",
   "execution_count": 11,
   "metadata": {},
   "outputs": [
    {
     "data": {
      "text/plain": [
       "{'analysis_version': 1,\n",
       " 'analyst': 'Bill Flynn',\n",
       " 'customer_name': 'Anonymous person',\n",
       " 'date_created': '2018-09-28T18-40-45',\n",
       " 'empty_genes': 10672,\n",
       " 'genome': 'GRCh38',\n",
       " 'input_dir': '/projects/flynnb/singlecell/IBC/PR18016',\n",
       " 'input_file': '/projects/flynnb/singlecell/IBC/PR18016/filtered_gene_bc_matrices_h5.h5',\n",
       " 'output_dir': '/projects/flynnb/singlecell/IBC/PR18016_outputs2',\n",
       " 'raw_cells': 2145,\n",
       " 'raw_genes': 33694,\n",
       " 'sampleid': 'PR18016',\n",
       " 'species': 'hsapiens'}"
      ]
     },
     "execution_count": 11,
     "metadata": {},
     "output_type": "execute_result"
    }
   ],
   "source": [
    "test.uns"
   ]
  },
  {
   "cell_type": "code",
   "execution_count": 6,
   "metadata": {},
   "outputs": [],
   "source": [
    "sc.qc.gen_qc(test)"
   ]
  },
  {
   "cell_type": "code",
   "execution_count": 7,
   "metadata": {},
   "outputs": [
    {
     "data": {
      "text/plain": [
       "OrderedDict([('sampleid', 'PR18016'),\n",
       "             ('genome', 'GRCh38'),\n",
       "             ('species', 'hsapiens'),\n",
       "             ('analyst', 'Bill Flynn'),\n",
       "             ('customer_name', 'Anonymous person'),\n",
       "             ('analysis_version', 1),\n",
       "             ('date_created', '2018-09-28T18-40-45'),\n",
       "             ('input_file',\n",
       "              '/projects/flynnb/singlecell/IBC/PR18016/filtered_gene_bc_matrices_h5.h5'),\n",
       "             ('input_dir', '/projects/flynnb/singlecell/IBC/PR18016'),\n",
       "             ('output_dir',\n",
       "              '/projects/flynnb/singlecell/IBC/PR18016_outputs2'),\n",
       "             ('raw_cells', 2145),\n",
       "             ('raw_genes', 33694),\n",
       "             ('empty_genes', 10672)])"
      ]
     },
     "execution_count": 7,
     "metadata": {},
     "output_type": "execute_result"
    }
   ],
   "source": [
    "test.uns"
   ]
  },
  {
   "cell_type": "code",
   "execution_count": 8,
   "metadata": {},
   "outputs": [
    {
     "name": "stdout",
     "output_type": "stream",
     "text": [
      "(2145, 33694) (2145, 19727)\n"
     ]
    }
   ],
   "source": [
    "sc.qc.run_qc(test, )"
   ]
  },
  {
   "cell_type": "code",
   "execution_count": 9,
   "metadata": {},
   "outputs": [
    {
     "data": {
      "text/plain": [
       "{'analysis_version': 1,\n",
       " 'analyst': 'Bill Flynn',\n",
       " 'customer_name': 'Anonymous person',\n",
       " 'date_created': '2018-09-28T18-40-45',\n",
       " 'empty_genes': 10672,\n",
       " 'genome': 'GRCh38',\n",
       " 'input_dir': '/projects/flynnb/singlecell/IBC/PR18016',\n",
       " 'input_file': '/projects/flynnb/singlecell/IBC/PR18016/filtered_gene_bc_matrices_h5.h5',\n",
       " 'output_dir': '/projects/flynnb/singlecell/IBC/PR18016_outputs2',\n",
       " 'raw_cells': 2145,\n",
       " 'raw_genes': 33694,\n",
       " 'sampleid': 'PR18016',\n",
       " 'species': 'hsapiens'}"
      ]
     },
     "execution_count": 9,
     "metadata": {},
     "output_type": "execute_result"
    }
   ],
   "source": [
    "test.uns"
   ]
  },
  {
   "cell_type": "code",
   "execution_count": null,
   "metadata": {},
   "outputs": [],
   "source": [
    "s"
   ]
  }
 ],
 "metadata": {
  "celltoolbar": "Tags",
  "kernelspec": {
   "display_name": "Python [conda env:scc]",
   "language": "python",
   "name": "conda-env-scc-py"
  },
  "language_info": {
   "codemirror_mode": {
    "name": "ipython",
    "version": 3
   },
   "file_extension": ".py",
   "mimetype": "text/x-python",
   "name": "python",
   "nbconvert_exporter": "python",
   "pygments_lexer": "ipython3",
   "version": "3.6.4"
  }
 },
 "nbformat": 4,
 "nbformat_minor": 2
}
